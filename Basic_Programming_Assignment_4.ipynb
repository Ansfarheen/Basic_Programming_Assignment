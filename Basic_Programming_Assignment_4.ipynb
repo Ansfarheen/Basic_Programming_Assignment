{
 "cells": [
  {
   "cell_type": "markdown",
   "id": "690bc9a3",
   "metadata": {},
   "source": [
    "# Q1. Write a Python Program to Find the Factorial of a Number?"
   ]
  },
  {
   "cell_type": "code",
   "execution_count": 1,
   "id": "3e063fa3",
   "metadata": {},
   "outputs": [
    {
     "name": "stdout",
     "output_type": "stream",
     "text": [
      "Enter the number whose factorial you want to calculate 7\n",
      "7! = 5040\n"
     ]
    }
   ],
   "source": [
    "num= int(input('Enter the number whose factorial you want to calculate '))\n",
    "fact=1\n",
    "if num<1 :\n",
    "    print('Negative number factorial cannot be calculated')\n",
    "else:\n",
    "    for i in range(1,num+1):\n",
    "        fact= i*fact\n",
    "print(f'{num}! = {fact}')"
   ]
  },
  {
   "cell_type": "markdown",
   "id": "aeb781ca",
   "metadata": {},
   "source": [
    "# Q2. Write a Python Program to Display the multiplication Table?"
   ]
  },
  {
   "cell_type": "code",
   "execution_count": 2,
   "id": "5b22186d",
   "metadata": {},
   "outputs": [
    {
     "name": "stdout",
     "output_type": "stream",
     "text": [
      "Enter a number whose multiplication table you want to display 31\n",
      "Multiplication table of 31 is \n",
      "31 x 1 = 31\n",
      "31 x 2 = 62\n",
      "31 x 3 = 93\n",
      "31 x 4 = 124\n",
      "31 x 5 = 155\n",
      "31 x 6 = 186\n",
      "31 x 7 = 217\n",
      "31 x 8 = 248\n",
      "31 x 9 = 279\n",
      "31 x 10 = 310\n"
     ]
    }
   ],
   "source": [
    "num= int(input('Enter a number whose multiplication table you want to display '))\n",
    "print(f'Multiplication table of {num} is ')\n",
    "for i in range(1,11):\n",
    "    print(f'{num} x {i} = {num*i}')"
   ]
  },
  {
   "cell_type": "markdown",
   "id": "a46be4a1",
   "metadata": {},
   "source": [
    "# Q3. Write a Python Program to Print the Fibonacci sequence?"
   ]
  },
  {
   "cell_type": "code",
   "execution_count": 3,
   "id": "bd7a0130",
   "metadata": {},
   "outputs": [
    {
     "name": "stdout",
     "output_type": "stream",
     "text": [
      "How many numbers do you want 23\n",
      "Your Fibonacci series is  0 1 1 2 3 5 8 13 21 34 55 89 144 233 377 610 987 1597 2584 4181 6765 10946 17711 "
     ]
    }
   ],
   "source": [
    "num= int(input('How many numbers do you want '))\n",
    "f1,f2=0,1\n",
    "if num<=0:\n",
    "    \n",
    "    print('You have entered incorrect input',end=\" \")\n",
    "elif num==1:\n",
    "    print('Your Fibonacci series is ')\n",
    "    print(f1)\n",
    "else:\n",
    "    print('Your Fibonacci series is ',end=\" \")\n",
    "    for i in range(num):\n",
    "        print(f1,end=\" \")\n",
    "        f1,f2= f2,f1+f2\n",
    "    "
   ]
  },
  {
   "cell_type": "markdown",
   "id": "5db470ee",
   "metadata": {},
   "source": [
    "# Q4. Write a Python Program to Check Armstrong Number?\n",
    "\n",
    "E.g. 153\n",
    "     number of digits=3\n",
    "     sum= 1*1*1 +5*5*5+ 3*3*3=153"
   ]
  },
  {
   "cell_type": "code",
   "execution_count": 4,
   "id": "5ac9c8b5",
   "metadata": {},
   "outputs": [
    {
     "name": "stdout",
     "output_type": "stream",
     "text": [
      "Enter a number that you want to check 564\n",
      "564 is not an Armstrong number\n"
     ]
    }
   ],
   "source": [
    "num= int(input('Enter a number that you want to check '))\n",
    "power=len(str(num))\n",
    "sum1=0\n",
    "temp=num\n",
    "while temp>0:\n",
    "    digit=temp%10\n",
    "    sum1+=digit**power\n",
    "    temp= temp//10\n",
    "    \n",
    "if sum1==num:\n",
    "    print(f'{num} is an Armstrong number')\n",
    "else:\n",
    "    print(f'{num} is not an Armstrong number')\n",
    "    "
   ]
  },
  {
   "cell_type": "markdown",
   "id": "cd403916",
   "metadata": {},
   "source": [
    "# Q5. Write a Python Program to Find Armstrong Number in an Interval?"
   ]
  },
  {
   "cell_type": "code",
   "execution_count": 5,
   "id": "922fdee3",
   "metadata": {},
   "outputs": [
    {
     "name": "stdout",
     "output_type": "stream",
     "text": [
      "Enter the upper limit 1000\n",
      "Enter the lower limit 1\n",
      "The Armstrong numbers are  1 2 3 4 5 6 7 8 9 153 370 371 407 "
     ]
    }
   ],
   "source": [
    "upper = int(input('Enter the upper limit '))\n",
    "lower = int(input('Enter the lower limit '))\n",
    "res=[]\n",
    "for i in range(lower,upper+1):\n",
    "    power= len(str(i))\n",
    "    sum1=0\n",
    "    temp=i\n",
    "    while temp>0:\n",
    "        digit=temp%10\n",
    "        sum1+=digit**power\n",
    "        temp= temp//10\n",
    "   \n",
    "    if sum1==i:\n",
    "        res.append(i)\n",
    "        \n",
    "if res==[]:\n",
    "    print('No Armstrong number is found in this interval')\n",
    "else:\n",
    "    print('The Armstrong numbers are ', end=\" \")\n",
    "    for i in res:\n",
    "        print(i,end=\" \")"
   ]
  },
  {
   "cell_type": "markdown",
   "id": "861b004a",
   "metadata": {},
   "source": [
    "# Q6.  Write a Python Program to Find the Sum of Natural Numbers?"
   ]
  },
  {
   "cell_type": "code",
   "execution_count": 6,
   "id": "91a74072",
   "metadata": {},
   "outputs": [
    {
     "name": "stdout",
     "output_type": "stream",
     "text": [
      "Enter the number upto which you want to calculate sum 20\n",
      "Sum of 20 natural numbers is 210\n"
     ]
    }
   ],
   "source": [
    "num= int(input('Enter the number upto which you want to calculate sum '))\n",
    "res=0\n",
    "for i in range(1,num+1):\n",
    "    res+=i\n",
    "print(f'Sum of {num} natural numbers is {res}')"
   ]
  }
 ],
 "metadata": {
  "kernelspec": {
   "display_name": "Python 3",
   "language": "python",
   "name": "python3"
  },
  "language_info": {
   "codemirror_mode": {
    "name": "ipython",
    "version": 3
   },
   "file_extension": ".py",
   "mimetype": "text/x-python",
   "name": "python",
   "nbconvert_exporter": "python",
   "pygments_lexer": "ipython3",
   "version": "3.8.8"
  }
 },
 "nbformat": 4,
 "nbformat_minor": 5
}
