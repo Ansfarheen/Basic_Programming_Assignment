{
 "cells": [
  {
   "cell_type": "markdown",
   "id": "56e69676",
   "metadata": {},
   "source": [
    "## Question 1:\n",
    "Write a program that calculates and prints the value according to the given formula:\n",
    "\n",
    "Q = Square root of [(2 * C * D)/H]\n",
    "\n",
    "\n",
    "\n",
    "\n",
    "Following are the fixed values of C and H:\n",
    "\n",
    "\n",
    "\n",
    "\n",
    "C is 50. H is 30.\n",
    "\n",
    "\n",
    "\n",
    "\n",
    "D is the variable whose values should be input to your program in a comma-separated sequence.\n",
    "\n",
    "\n",
    "\n",
    "\n",
    "Example\n",
    "\n",
    "\n",
    "\n",
    "\n",
    "Let us assume the following comma separated input sequence is given to the program:\n",
    "\n",
    "\n",
    "\n",
    "\n",
    "100,150,180\n",
    "\n",
    "\n",
    "\n",
    "\n",
    "The output of the program should be:\n",
    "\n",
    "\n",
    "\n",
    "18,22,24"
   ]
  },
  {
   "cell_type": "code",
   "execution_count": 1,
   "id": "64194d10",
   "metadata": {},
   "outputs": [
    {
     "name": "stdout",
     "output_type": "stream",
     "text": [
      "Please enter the value of D (comma-separated sequence) 100,150,180\n",
      "18,22,24\n"
     ]
    }
   ],
   "source": [
    "import math\n",
    "inp = list(map(int,input('Please enter the value of D (comma-separated sequence) ').split(',')))\n",
    "res=[]\n",
    "for D in inp:\n",
    "    Q= round(math.sqrt((2*50*D)/30))\n",
    "    res.append(str(Q))\n",
    "print(','.join(res))"
   ]
  },
  {
   "cell_type": "markdown",
   "id": "de580a9e",
   "metadata": {},
   "source": [
    "## Question 2:\n",
    "Write a program which takes 2 digits, X,Y as input and generates a 2-dimensional array. The element value in the i-th row and j-th column of the array should be i*j.\n",
    "\n",
    "\n",
    "\n",
    "\n",
    "Note: i=0,1.., X-1; j=0,1,¡Y-1.\n",
    "\n",
    "\n",
    "\n",
    "\n",
    "Example\n",
    "\n",
    "\n",
    "\n",
    "\n",
    "Suppose the following inputs are given to the program:\n",
    "\n",
    "\n",
    "\n",
    "\n",
    "3,5\n",
    "\n",
    "\n",
    "\n",
    "\n",
    "Then, the output of the program should be:\n",
    "\n",
    "\n",
    "\n",
    "\n",
    "[[0, 0, 0, 0, 0], [0, 1, 2, 3, 4], [0, 2, 4, 6, 8]] \n"
   ]
  },
  {
   "cell_type": "code",
   "execution_count": 2,
   "id": "46d93745",
   "metadata": {},
   "outputs": [
    {
     "name": "stdout",
     "output_type": "stream",
     "text": [
      "Enter the value of X,Y 4 5\n",
      "[[0, 0, 0, 0, 0], [0, 1, 2, 3, 4], [0, 2, 4, 6, 8], [0, 3, 6, 9, 12]]\n"
     ]
    }
   ],
   "source": [
    "X,Y= map(int,input('Enter the value of X,Y ').split())\n",
    "res=[]\n",
    "for i in range(X):\n",
    "    col=[]\n",
    "    for y in range(Y):\n",
    "        col.append(i*y)\n",
    "    res.append(col)\n",
    "print(res)        "
   ]
  },
  {
   "cell_type": "markdown",
   "id": "02647551",
   "metadata": {},
   "source": [
    "## Question 3:\n",
    "Write a program that accepts a comma separated sequence of words as input and prints the words in a comma-separated sequence after sorting them alphabetically.\n",
    "\n",
    "\n",
    "\n",
    "\n",
    "Suppose the following input is supplied to the program:\n",
    "\n",
    "\n",
    "\n",
    "\n",
    "without,hello,bag,world\n",
    "\n",
    "\n",
    "\n",
    "\n",
    "Then, the output should be:\n",
    "\n",
    "\n",
    "\n",
    "bag,hello,without,world\n"
   ]
  },
  {
   "cell_type": "code",
   "execution_count": 3,
   "id": "82a6f13a",
   "metadata": {},
   "outputs": [
    {
     "name": "stdout",
     "output_type": "stream",
     "text": [
      "Enter the words (separated by commas) : without,hello,bag,world\n",
      "bag,hello,without,world\n"
     ]
    }
   ],
   "source": [
    "seq= list(map(str,input('Enter the words (separated by commas) : ').split(',')))\n",
    "seq.sort()\n",
    "print(','.join(seq))"
   ]
  },
  {
   "cell_type": "markdown",
   "id": "19928544",
   "metadata": {},
   "source": [
    "## Question 4:\n",
    "Write a program that accepts a sequence of whitespace separated words as input and prints the words after removing all duplicate words and sorting them alphanumerically.\n",
    "\n",
    "\n",
    "\n",
    "\n",
    "Suppose the following input is supplied to the program:\n",
    "\n",
    "\n",
    "\n",
    "\n",
    "hello world and practice makes perfect and hello world again\n",
    "\n",
    "\n",
    "\n",
    "\n",
    "Then, the output should be:\n",
    "\n",
    "\n",
    "\n",
    "again and hello makes perfect practice world\n"
   ]
  },
  {
   "cell_type": "code",
   "execution_count": 4,
   "id": "c7a03a1a",
   "metadata": {},
   "outputs": [
    {
     "name": "stdout",
     "output_type": "stream",
     "text": [
      "Enter the words: hello world and practice makes perfect and hello world again\n",
      "again and hello makes perfect practice world\n"
     ]
    }
   ],
   "source": [
    "seq= list(map(str,input('Enter the words: ').split()))\n",
    "print(' '.join(sorted(set(seq))))"
   ]
  },
  {
   "cell_type": "markdown",
   "id": "002b9e4d",
   "metadata": {},
   "source": [
    "## Question 5:\n",
    "Write a program that accepts a sentence and calculate the number of letters and digits.\n",
    "\n",
    "\n",
    "\n",
    "\n",
    "Suppose the following input is supplied to the program:\n",
    "\n",
    "\n",
    "\n",
    "\n",
    "hello world! 123\n",
    "\n",
    "\n",
    "\n",
    "\n",
    "Then, the output should be:\n",
    "\n",
    "\n",
    "\n",
    "\n",
    "LETTERS 10\n",
    "\n",
    "DIGITS 3\n"
   ]
  },
  {
   "cell_type": "code",
   "execution_count": 5,
   "id": "645384a9",
   "metadata": {},
   "outputs": [
    {
     "name": "stdout",
     "output_type": "stream",
     "text": [
      "Enter the sentence : hello world! 123\n",
      "LETTERS  10\n",
      "DIGITS  3\n"
     ]
    }
   ],
   "source": [
    "import string\n",
    "sentence= input('Enter the sentence : ')\n",
    "letters= string.ascii_letters\n",
    "digits = string.digits \n",
    "dig,let=0,0\n",
    "for i in sentence:\n",
    "    if i in letters:\n",
    "        let+=1\n",
    "    if i in digits:\n",
    "        dig+=1\n",
    "        \n",
    "print('LETTERS ',let)\n",
    "print('DIGITS ',dig)\n"
   ]
  },
  {
   "cell_type": "markdown",
   "id": "a186f057",
   "metadata": {},
   "source": [
    "## Question 6:\n",
    "A website requires the users to input username and password to register. Write a program to check the validity of password input by users.\n",
    "\n",
    "\n",
    "\n",
    "\n",
    "Following are the criteria for checking the password:\n",
    "\n",
    "\n",
    "\n",
    "\n",
    "1. At least 1 letter between [a-z]\n",
    "\n",
    "\n",
    "\n",
    "\n",
    "2. At least 1 number between [0-9]\n",
    "\n",
    "\n",
    "\n",
    "\n",
    "1. At least 1 letter between [A-Z]\n",
    "\n",
    "\n",
    "\n",
    "\n",
    "3. At least 1 character from [$#@]\n",
    "\n",
    "\n",
    "\n",
    "\n",
    "4. Minimum length of transaction password: 6\n",
    "\n",
    "\n",
    "\n",
    "\n",
    "5. Maximum length of transaction password: 12\n",
    "\n",
    "\n",
    "\n",
    "\n",
    "Your program should accept a sequence of comma separated passwords and will check them according to the above criteria. Passwords that match the criteria are to be printed, each separated by a comma.\n",
    "\n",
    "\n",
    "\n",
    "\n",
    "Example\n",
    "\n",
    "\n",
    "\n",
    "\n",
    "If the following passwords are given as input to the program:\n",
    "\n",
    "\n",
    "\n",
    "\n",
    "ABd1234@1,a F1#,2w3E*,2We3345\n",
    "\n",
    "\n",
    "\n",
    "\n",
    "Then, the output of the program should be:\n",
    "\n",
    "\n",
    "\n",
    "ABd1234@1\n"
   ]
  },
  {
   "cell_type": "code",
   "execution_count": 6,
   "id": "2abbcdb5",
   "metadata": {},
   "outputs": [
    {
     "name": "stdout",
     "output_type": "stream",
     "text": [
      "Enter the passwords (separated by commas) ABd1234@1,a F1#,2w3E*,2We3345\n",
      "ABd1234@1\n"
     ]
    }
   ],
   "source": [
    "import string\n",
    "upper = string.ascii_uppercase\n",
    "lower = string.ascii_lowercase\n",
    "digits = string.digits\n",
    "punc= string.punctuation\n",
    "\n",
    "res=[]\n",
    "password=list(map(str,input('Enter the passwords (separated by commas) ').split(',')))\n",
    "for i in password:\n",
    "    if len(i)>=6 and len(i)<=12:\n",
    "        for j in i:\n",
    "            if j not in upper+lower+digits+punc:\n",
    "                break\n",
    "                \n",
    "        else: \n",
    "            res.append(i)\n",
    "    else:\n",
    "        break\n",
    "\n",
    "print(','.join(res))"
   ]
  },
  {
   "cell_type": "code",
   "execution_count": null,
   "id": "b1e82ff2",
   "metadata": {},
   "outputs": [],
   "source": []
  }
 ],
 "metadata": {
  "kernelspec": {
   "display_name": "Python 3",
   "language": "python",
   "name": "python3"
  },
  "language_info": {
   "codemirror_mode": {
    "name": "ipython",
    "version": 3
   },
   "file_extension": ".py",
   "mimetype": "text/x-python",
   "name": "python",
   "nbconvert_exporter": "python",
   "pygments_lexer": "ipython3",
   "version": "3.8.8"
  }
 },
 "nbformat": 4,
 "nbformat_minor": 5
}
