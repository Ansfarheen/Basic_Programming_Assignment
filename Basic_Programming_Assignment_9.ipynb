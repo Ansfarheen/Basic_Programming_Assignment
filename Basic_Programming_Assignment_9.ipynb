{
 "cells": [
  {
   "cell_type": "markdown",
   "id": "b9f63330",
   "metadata": {},
   "source": [
    "# 1. Write a Python program to check if the given number is a Disarium Number?\n",
    "\n",
    "\n",
    "A number is said to be the Disarium number when the sum of its digit raised to the power of their respective positions becomes equal to the number itself.\n",
    "\n",
    "For example, 175 is a Disarium number as follows:\n",
    "\n",
    "11+ 72 + 53 = 1+ 49 + 125 = 175"
   ]
  },
  {
   "cell_type": "code",
   "execution_count": 1,
   "id": "facc661a",
   "metadata": {},
   "outputs": [
    {
     "name": "stdout",
     "output_type": "stream",
     "text": [
      "Enter a number175\n",
      "The number 175 is disarium number.\n"
     ]
    }
   ],
   "source": [
    "num= input('Enter a number')\n",
    "count=1\n",
    "dis=0\n",
    "for i in num:\n",
    "    dis+=int(i)**(count)\n",
    "    count=count+1\n",
    "if dis==int(num):\n",
    "    print('The number {} is disarium number.'.format(num))\n",
    "else:\n",
    "    print('The number {} is not disarium number.'.format(num)) \n",
    "\n",
    "    \n",
    "    "
   ]
  },
  {
   "cell_type": "markdown",
   "id": "a3a5ad58",
   "metadata": {},
   "source": [
    "# 2. Write a Python program to print all disarium numbers between 1 to 100?"
   ]
  },
  {
   "cell_type": "code",
   "execution_count": 2,
   "id": "62f3ee4e",
   "metadata": {},
   "outputs": [
    {
     "name": "stdout",
     "output_type": "stream",
     "text": [
      "All disarium numbers between 1 to 100 are  1 2 3 4 5 6 7 8 9 89 "
     ]
    }
   ],
   "source": [
    "result=[]\n",
    "for i in range(1,101):\n",
    "    count=1\n",
    "    dis=0\n",
    "    num= str(i)\n",
    "    for k in num:\n",
    "        dis+=int(k)**(count)\n",
    "        count=count+1\n",
    "    if dis==i:\n",
    "        result.append(i)\n",
    "print('All disarium numbers between 1 to 100 are ',end=\" \")\n",
    "for i in result:\n",
    "    print(i,end=\" \")"
   ]
  },
  {
   "cell_type": "markdown",
   "id": "8345f42a",
   "metadata": {},
   "source": [
    "# 3. Write a Python program to check if the given number is Happy Number?\n",
    "\n",
    "A number is said to be happy if it yields 1 when replaced by the sum of squares of its digits repeatedly. If this process results in an endless cycle of numbers containing 4, then the number will be an unhappy number."
   ]
  },
  {
   "cell_type": "code",
   "execution_count": 3,
   "id": "84914159",
   "metadata": {},
   "outputs": [
    {
     "name": "stdout",
     "output_type": "stream",
     "text": [
      "Enter a number 32\n",
      "The number 32 is a Happy number.\n"
     ]
    }
   ],
   "source": [
    "def happy_number(num):\n",
    "    sq=0\n",
    "    for i in str(num):\n",
    "        sq+=int(i)**2\n",
    "    return sq\n",
    "    \n",
    "ch_num= input('Enter a number ')\n",
    "result= int(ch_num)\n",
    "while (result!=1 and result!=4):\n",
    "    result=happy_number(result)\n",
    "if result==1:\n",
    "    print('The number {} is a Happy number.'.format(ch_num))\n",
    "elif result==4:\n",
    "    print('The number {} is not a Happy number.'.format(ch_num))"
   ]
  },
  {
   "cell_type": "markdown",
   "id": "26acde21",
   "metadata": {},
   "source": [
    "# 4. Write a Python program to print all happy numbers between 1 and 100?"
   ]
  },
  {
   "cell_type": "code",
   "execution_count": 4,
   "id": "7f233d1a",
   "metadata": {},
   "outputs": [
    {
     "name": "stdout",
     "output_type": "stream",
     "text": [
      "All happy numbers between 1 and 100 are  1 7 10 13 19 23 28 31 32 44 49 68 70 79 82 86 91 94 97 100 "
     ]
    }
   ],
   "source": [
    "res=[]\n",
    "def happy_number(num):\n",
    "    sq=0\n",
    "    for i in str(num):\n",
    "        sq+=int(i)**2\n",
    "    return sq\n",
    "    \n",
    "for num in range(1,101):\n",
    "    result= num\n",
    "    while (result!=1 and result!=4):\n",
    "        result=happy_number(result)\n",
    "    if result==1:\n",
    "        res.append(num)\n",
    "print('All happy numbers between 1 and 100 are ',end=\" \")\n",
    "for i in res:\n",
    "    print(i,end=\" \")"
   ]
  },
  {
   "cell_type": "markdown",
   "id": "8a8e4f5b",
   "metadata": {},
   "source": [
    "# 5. Write a Python program to determine whether the given number is a Harshad Number?\n",
    "\n",
    "If a number is divisible by the sum of its digits, then it will be known as a Harshad Number."
   ]
  },
  {
   "cell_type": "code",
   "execution_count": 5,
   "id": "12d50d54",
   "metadata": {},
   "outputs": [
    {
     "name": "stdout",
     "output_type": "stream",
     "text": [
      "Enter a number 54\n",
      "The number 54 is a Harshad number.\n"
     ]
    }
   ],
   "source": [
    "num_ch= input('Enter a number ')\n",
    "num=int(num_ch)\n",
    "res=[int(i) for i in num_ch]\n",
    "sum_of_digits=sum(res)\n",
    "if num%sum_of_digits==0:\n",
    "    print('The number {} is a Harshad number.'.format(num))\n",
    "else:\n",
    "    print('The number {} is not a Harshad number.'.format(num))\n"
   ]
  },
  {
   "cell_type": "markdown",
   "id": "13a3c6e0",
   "metadata": {},
   "source": [
    "# 6. Write a Python program to print all pronic numbers between 1 and 100?\n",
    "\n",
    "The pronic number is a product of two consecutive integers of the form: n(n+1)."
   ]
  },
  {
   "cell_type": "code",
   "execution_count": 6,
   "id": "e85603ab",
   "metadata": {},
   "outputs": [
    {
     "name": "stdout",
     "output_type": "stream",
     "text": [
      "All pronic numbers between 1 and 100 : 2 6 12 20 30 42 56 72 90 "
     ]
    }
   ],
   "source": [
    "res=[]\n",
    "for i in range(1,100):\n",
    "    for j in range(1,i+1):\n",
    "        if j*(j+1)==i:\n",
    "            res.append(i)\n",
    "            break\n",
    "print('All pronic numbers between 1 and 100 :',end=\" \")\n",
    "for i in res:\n",
    "    print(i,end=\" \")"
   ]
  }
 ],
 "metadata": {
  "kernelspec": {
   "display_name": "Python 3",
   "language": "python",
   "name": "python3"
  },
  "language_info": {
   "codemirror_mode": {
    "name": "ipython",
    "version": 3
   },
   "file_extension": ".py",
   "mimetype": "text/x-python",
   "name": "python",
   "nbconvert_exporter": "python",
   "pygments_lexer": "ipython3",
   "version": "3.8.8"
  }
 },
 "nbformat": 4,
 "nbformat_minor": 5
}
