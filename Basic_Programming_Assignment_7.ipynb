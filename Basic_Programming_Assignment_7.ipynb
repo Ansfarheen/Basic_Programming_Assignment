{
 "cells": [
  {
   "cell_type": "markdown",
   "id": "19b636e3",
   "metadata": {},
   "source": [
    "# 1. Write a Python Program to find sum of array?"
   ]
  },
  {
   "cell_type": "code",
   "execution_count": 1,
   "id": "919da799",
   "metadata": {},
   "outputs": [
    {
     "name": "stdout",
     "output_type": "stream",
     "text": [
      "Enter the elements of array 2 3 4 1 6 7 8\n",
      "The sum of the array [2, 3, 4, 1, 6, 7, 8] is 31\n"
     ]
    }
   ],
   "source": [
    "l= list(map(int,input('Enter the elements of array ').split()))\n",
    "print(f'The sum of the array {l} is {sum(l)}')"
   ]
  },
  {
   "cell_type": "markdown",
   "id": "91679ece",
   "metadata": {},
   "source": [
    "# 2. Write a Python Program to find largest element in an array?"
   ]
  },
  {
   "cell_type": "code",
   "execution_count": 2,
   "id": "24d43b09",
   "metadata": {},
   "outputs": [
    {
     "name": "stdout",
     "output_type": "stream",
     "text": [
      "Enter the elements of array 23 1 4 56 78 2\n",
      "The largest element in array [23, 1, 4, 56, 78, 2] is 78\n"
     ]
    }
   ],
   "source": [
    "l= list(map(int,input('Enter the elements of array ').split()))\n",
    "print(f'The largest element in array {l} is {max(l)}')"
   ]
  },
  {
   "cell_type": "markdown",
   "id": "3e32998b",
   "metadata": {},
   "source": [
    "# 3. Write a Python Program for array rotation?"
   ]
  },
  {
   "cell_type": "code",
   "execution_count": 3,
   "id": "0673d7d8",
   "metadata": {},
   "outputs": [
    {
     "name": "stdout",
     "output_type": "stream",
     "text": [
      "Enter the elements of array 2 3 1 5 6 7 8\n",
      "Enter type of rotataion: 1 for left rotation and 2 for right rotataion 1\n",
      "Enter the number of elements you want to roatate 2\n",
      "The array [2, 3, 1, 5, 6, 7, 8] after 2 left rotation is [7, 8, 2, 3, 1, 5, 6]\n"
     ]
    }
   ],
   "source": [
    "l= list(map(int,input('Enter the elements of array ').split()))\n",
    "length= len(l)\n",
    "rot=input('Enter type of rotataion: 1 for left rotation and 2 for right rotataion ')\n",
    "n= int(input('Enter the number of elements you want to roatate '))\n",
    "n=n%length\n",
    "if rot=='1':\n",
    "    right=l[:-n]\n",
    "    left=l[-n:]\n",
    "    print(f'The array {l} after {n} left rotation is {left+right}')\n",
    "elif rot=='2':\n",
    "    left=l[n:]\n",
    "    right=l[:n]\n",
    "    print(f'The array {l} after {n} right rotation is {left+right}')\n",
    "else:\n",
    "    print('Wrong option has been chosen')"
   ]
  },
  {
   "cell_type": "markdown",
   "id": "9d06156d",
   "metadata": {},
   "source": [
    "# 4. Write a Python Program to Split the array and add the first part to the end?"
   ]
  },
  {
   "cell_type": "code",
   "execution_count": 4,
   "id": "b1c1bc7a",
   "metadata": {},
   "outputs": [
    {
     "name": "stdout",
     "output_type": "stream",
     "text": [
      "Enter the elements of array 2 1 6 5 3 4 9\n",
      "Enter the index from which you want to split the array 3\n",
      "The two splitted array are [2, 1, 6] [5, 3, 4, 9]\n",
      "The list [2, 1, 6, 5, 3, 4, 9] after splitting and adding the first part to the end is [5, 3, 4, 9, 2, 1, 6]\n"
     ]
    }
   ],
   "source": [
    "l= list(map(int,input('Enter the elements of array ').split()))\n",
    "length= len(l)\n",
    "n= int(input('Enter the index from which you want to split the array '))\n",
    "n=n%length\n",
    "left=l[n:]\n",
    "right=l[:n]\n",
    "res=left+right\n",
    "print(f'The two splitted array are {right} {left}')\n",
    "print(f'The list {l} after splitting and adding the first part to the end is {res}')"
   ]
  },
  {
   "cell_type": "markdown",
   "id": "3def5e27",
   "metadata": {},
   "source": [
    "# 5. Write a Python Program to check if given array is Monotonic?\n",
    "\n",
    "An array is said to be monotonic in nature if the array elements are continuously increasing or continuously decreasing."
   ]
  },
  {
   "cell_type": "code",
   "execution_count": 5,
   "id": "d59a429a",
   "metadata": {},
   "outputs": [
    {
     "name": "stdout",
     "output_type": "stream",
     "text": [
      "Enter the elements of array 90 87 45 32 22 19 14 9\n",
      "Array [90, 87, 45, 32, 22, 19, 14, 9] is monotonic\n"
     ]
    }
   ],
   "source": [
    "l= list(map(int,input('Enter the elements of array ').split()))\n",
    "if l==list(sorted(l))  or l==list(sorted(l,reverse=True)):\n",
    "    print(f'Array {l} is monotonic')\n",
    "else:\n",
    "    print(f'Array {l} is not monotonic')"
   ]
  }
 ],
 "metadata": {
  "kernelspec": {
   "display_name": "Python 3",
   "language": "python",
   "name": "python3"
  },
  "language_info": {
   "codemirror_mode": {
    "name": "ipython",
    "version": 3
   },
   "file_extension": ".py",
   "mimetype": "text/x-python",
   "name": "python",
   "nbconvert_exporter": "python",
   "pygments_lexer": "ipython3",
   "version": "3.8.8"
  }
 },
 "nbformat": 4,
 "nbformat_minor": 5
}
