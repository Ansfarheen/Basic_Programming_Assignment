{
 "cells": [
  {
   "cell_type": "markdown",
   "id": "d4149a9c",
   "metadata": {},
   "source": [
    "## 1. Write a Python program to Extract Unique values dictionary values?\n"
   ]
  },
  {
   "cell_type": "code",
   "execution_count": 1,
   "id": "e0857fb2",
   "metadata": {},
   "outputs": [
    {
     "name": "stdout",
     "output_type": "stream",
     "text": [
      "The unique values from dictionary values are [1, 2, 3, 4, 'hello', 7, 9, 6, 45]\n"
     ]
    }
   ],
   "source": [
    "dict1={\n",
    "    'a':[1,2,3,4],\n",
    "    'b':['hello',3,4,1],\n",
    "    'x':[7,9,1,2,3],\n",
    "    'k':[6,7,9],\n",
    "    'y':[45,'hello',1,3]\n",
    "    }\n",
    "res=[]\n",
    "for i in dict1.values():\n",
    "    for j in i:\n",
    "        if j not in res:\n",
    "            res.append(j)\n",
    "print('The unique values from dictionary values are {}'.format(res))"
   ]
  },
  {
   "cell_type": "markdown",
   "id": "1d7f4039",
   "metadata": {},
   "source": [
    "## 2.Write a Python program to find the sum of all items in a dictionary?"
   ]
  },
  {
   "cell_type": "code",
   "execution_count": 2,
   "id": "7dac170d",
   "metadata": {},
   "outputs": [
    {
     "name": "stdout",
     "output_type": "stream",
     "text": [
      "The sum of dictionary values is  117\n"
     ]
    }
   ],
   "source": [
    "dict1={\n",
    "    'a':[1,2,3,4],\n",
    "    'b':[6,3,4,1],\n",
    "    'x':[7,9,1,2,3],\n",
    "    'k':[6,7,9],\n",
    "    'y':[45,1,3]\n",
    "    }\n",
    "sum1=0\n",
    "for i in dict1.values():\n",
    "    for j in i:\n",
    "        sum1+=j\n",
    "print('The sum of dictionary values is ',sum1)"
   ]
  },
  {
   "cell_type": "markdown",
   "id": "9fdc4352",
   "metadata": {},
   "source": [
    "## 3. Write a Python program to Merging two Dictionaries?"
   ]
  },
  {
   "cell_type": "code",
   "execution_count": 3,
   "id": "5dd2b5e4",
   "metadata": {},
   "outputs": [
    {
     "name": "stdout",
     "output_type": "stream",
     "text": [
      "The merged dictionary is  {'a': 10, 'b': 8, 'd': 6, 'c': 4}\n"
     ]
    }
   ],
   "source": [
    "dict1 = {'a': 10, 'b': 8}\n",
    "dict2 = {'d': 6, 'c': 4}\n",
    "res= dict1.copy()\n",
    "res.update(dict2)\n",
    "print('The merged dictionary is ',res)"
   ]
  },
  {
   "cell_type": "markdown",
   "id": "c3498ab1",
   "metadata": {},
   "source": [
    "## 4. Write a Python program to convert key-values list to flat dictionary?"
   ]
  },
  {
   "cell_type": "code",
   "execution_count": 4,
   "id": "308ccbb0",
   "metadata": {},
   "outputs": [
    {
     "name": "stdout",
     "output_type": "stream",
     "text": [
      "The flattened dictionary is  {1: 'Jan', 2: 'Feb', 3: 'March', 4: 'Apr', 5: 'May', 6: 'June'}\n"
     ]
    }
   ],
   "source": [
    "my_dict = {\n",
    "    'month_num' : [1, 2, 3, 4, 5, 6], \n",
    "    'name_of_month' : ['Jan', 'Feb', 'March', 'Apr', 'May', 'June']\n",
    "          }\n",
    "\n",
    "res= dict(zip(my_dict['month_num'],my_dict['name_of_month']))\n",
    "print('The flattened dictionary is ',res)\n"
   ]
  },
  {
   "cell_type": "markdown",
   "id": "61a3d644",
   "metadata": {},
   "source": [
    "## 5. Write a Python program to insertion at the beginning in OrderedDict?"
   ]
  },
  {
   "cell_type": "code",
   "execution_count": 5,
   "id": "43a9c5fe",
   "metadata": {},
   "outputs": [
    {
     "name": "stdout",
     "output_type": "stream",
     "text": [
      "Original dictionary : OrderedDict([('Java', '5'), ('JavaScript', '2'), ('R', '6')])\n",
      "OrderedDict after insertion : OrderedDict([('Python', '3'), ('Java', '5'), ('JavaScript', '2'), ('R', '6')])\n"
     ]
    }
   ],
   "source": [
    "from collections import OrderedDict\n",
    "\n",
    "# initialising ordered_dict\n",
    "original_dict = OrderedDict([('Java', '5'), ('JavaScript', '2'),('R','6')])\n",
    "\n",
    "print (\"Original dictionary : \"+str(original_dict))\n",
    "\n",
    "# inserting items in starting of dict\n",
    "original_dict.update({'Python':'3'})\n",
    "original_dict.move_to_end('Python', last = False)\n",
    "\n",
    "\n",
    "print (\"OrderedDict after insertion : \"+str(original_dict))\n"
   ]
  },
  {
   "cell_type": "markdown",
   "id": "bdcb7cc0",
   "metadata": {},
   "source": [
    "## 6. Write a Python program to check order of character in string using OrderedDict()?"
   ]
  },
  {
   "cell_type": "code",
   "execution_count": 6,
   "id": "6d25c508",
   "metadata": {},
   "outputs": [
    {
     "name": "stdout",
     "output_type": "stream",
     "text": [
      "Enter the string : india is the best\n",
      "Enter the Pattern : is\n",
      "OrderedDict([('i', None), ('n', None), ('d', None), ('a', None), (' ', None), ('s', None), ('t', None), ('h', None), ('e', None), ('b', None)])\n",
      "Pattern matched\n"
     ]
    }
   ],
   "source": [
    "from collections import OrderedDict \n",
    "  \n",
    "def checkOrderofString(str, pattern): \n",
    "      \n",
    "    dict = OrderedDict.fromkeys(str) \n",
    "    print(dict)   \n",
    "    ptrlen = 0\n",
    "    for key,value in dict.items(): \n",
    "        \n",
    "        if (key == pattern[ptrlen]): \n",
    "            ptrlen = ptrlen + 1\n",
    "          \n",
    "        # check if we have traverse complete pattern string \n",
    "        if (ptrlen == (len(pattern))):            \n",
    "            return 'true'\n",
    "  \n",
    "    # if we come out from for loop that means order was mismatched \n",
    "    return 'false'\n",
    "  \n",
    "\n",
    "string = input(\"Enter the string : \")\n",
    "pattern = input(\"Enter the Pattern : \")\n",
    "if checkOrderofString(string,pattern):\n",
    "    print(\"Pattern matched\")\n",
    "else:\n",
    "    print(\"Pattern not matched\")"
   ]
  },
  {
   "cell_type": "markdown",
   "id": "fd151ead",
   "metadata": {},
   "source": [
    "## 7. Write a Python program to sort Python Dictionaries by Key or Value?"
   ]
  },
  {
   "cell_type": "code",
   "execution_count": 7,
   "id": "28161fdc",
   "metadata": {},
   "outputs": [
    {
     "name": "stdout",
     "output_type": "stream",
     "text": [
      "Original Dictionary is  {'one': 1, 'three': 3, 'five': 5, 'two': 2, 'four': 4}\n",
      "Dictionary after sorting it by key  {'five': 5, 'four': 4, 'one': 1, 'three': 3, 'two': 2}\n",
      "Dictionary after sorting it by value  {'one': 1, 'two': 2, 'three': 3, 'four': 4, 'five': 5}\n"
     ]
    }
   ],
   "source": [
    "d = {'one': 1, 'three': 3, 'five': 5, 'two': 2, 'four': 4}\n",
    "print('Original Dictionary is ',d)\n",
    "print('Dictionary after sorting it by key ',dict(sorted(d.items())))\n",
    "print('Dictionary after sorting it by value ',dict(sorted(d.items(), key=lambda x: x[1])))"
   ]
  }
 ],
 "metadata": {
  "kernelspec": {
   "display_name": "Python 3",
   "language": "python",
   "name": "python3"
  },
  "language_info": {
   "codemirror_mode": {
    "name": "ipython",
    "version": 3
   },
   "file_extension": ".py",
   "mimetype": "text/x-python",
   "name": "python",
   "nbconvert_exporter": "python",
   "pygments_lexer": "ipython3",
   "version": "3.8.8"
  }
 },
 "nbformat": 4,
 "nbformat_minor": 5
}
