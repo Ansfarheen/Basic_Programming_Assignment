{
 "cells": [
  {
   "cell_type": "markdown",
   "id": "66750b21",
   "metadata": {},
   "source": [
    "# Q1. Write a Python program to convert kilometers to miles?"
   ]
  },
  {
   "cell_type": "code",
   "execution_count": 1,
   "id": "2038cc4b",
   "metadata": {},
   "outputs": [
    {
     "name": "stdout",
     "output_type": "stream",
     "text": [
      "Enter the distance in kilometers 23.43\n",
      "23.430 kilometers in miles is 14.559\n"
     ]
    }
   ],
   "source": [
    "Distance= float(input('Enter the distance in kilometers '))\n",
    "miles= 0.6214*Distance\n",
    "print(f'{Distance:.3f} kilometers in miles is {miles:.3f}')"
   ]
  },
  {
   "cell_type": "markdown",
   "id": "eb839447",
   "metadata": {},
   "source": [
    "# Q2. Write a Python program to convert Celsius to Fahrenheit?"
   ]
  },
  {
   "cell_type": "code",
   "execution_count": 2,
   "id": "9cd90a2e",
   "metadata": {},
   "outputs": [
    {
     "name": "stdout",
     "output_type": "stream",
     "text": [
      "Enter the temperature in Celsius36.7\n",
      "36.70 Celsius is 98.06 Fahrenheit\n"
     ]
    }
   ],
   "source": [
    "Celsius= float(input('Enter the temperature in Celsius'))\n",
    "Fahrenheit = (Celsius * (9/5))+32\n",
    "print(f'{Celsius:.2f} Celsius is {Fahrenheit:.2f} Fahrenheit')"
   ]
  },
  {
   "cell_type": "markdown",
   "id": "8f2bae8d",
   "metadata": {},
   "source": [
    "# Q3. Write a Python program to display calendar?"
   ]
  },
  {
   "cell_type": "code",
   "execution_count": 7,
   "id": "a60cf40c",
   "metadata": {
    "scrolled": true
   },
   "outputs": [
    {
     "name": "stdout",
     "output_type": "stream",
     "text": [
      "Enter which year calender you want to see 2022\n",
      "                                  2022\n",
      "\n",
      "      January                   February                   March\n",
      "Mo Tu We Th Fr Sa Su      Mo Tu We Th Fr Sa Su      Mo Tu We Th Fr Sa Su\n",
      "                1  2          1  2  3  4  5  6          1  2  3  4  5  6\n",
      " 3  4  5  6  7  8  9       7  8  9 10 11 12 13       7  8  9 10 11 12 13\n",
      "10 11 12 13 14 15 16      14 15 16 17 18 19 20      14 15 16 17 18 19 20\n",
      "17 18 19 20 21 22 23      21 22 23 24 25 26 27      21 22 23 24 25 26 27\n",
      "24 25 26 27 28 29 30      28                        28 29 30 31\n",
      "31\n",
      "\n",
      "       April                      May                       June\n",
      "Mo Tu We Th Fr Sa Su      Mo Tu We Th Fr Sa Su      Mo Tu We Th Fr Sa Su\n",
      "             1  2  3                         1             1  2  3  4  5\n",
      " 4  5  6  7  8  9 10       2  3  4  5  6  7  8       6  7  8  9 10 11 12\n",
      "11 12 13 14 15 16 17       9 10 11 12 13 14 15      13 14 15 16 17 18 19\n",
      "18 19 20 21 22 23 24      16 17 18 19 20 21 22      20 21 22 23 24 25 26\n",
      "25 26 27 28 29 30         23 24 25 26 27 28 29      27 28 29 30\n",
      "                          30 31\n",
      "\n",
      "        July                     August                  September\n",
      "Mo Tu We Th Fr Sa Su      Mo Tu We Th Fr Sa Su      Mo Tu We Th Fr Sa Su\n",
      "             1  2  3       1  2  3  4  5  6  7                1  2  3  4\n",
      " 4  5  6  7  8  9 10       8  9 10 11 12 13 14       5  6  7  8  9 10 11\n",
      "11 12 13 14 15 16 17      15 16 17 18 19 20 21      12 13 14 15 16 17 18\n",
      "18 19 20 21 22 23 24      22 23 24 25 26 27 28      19 20 21 22 23 24 25\n",
      "25 26 27 28 29 30 31      29 30 31                  26 27 28 29 30\n",
      "\n",
      "      October                   November                  December\n",
      "Mo Tu We Th Fr Sa Su      Mo Tu We Th Fr Sa Su      Mo Tu We Th Fr Sa Su\n",
      "                1  2          1  2  3  4  5  6                1  2  3  4\n",
      " 3  4  5  6  7  8  9       7  8  9 10 11 12 13       5  6  7  8  9 10 11\n",
      "10 11 12 13 14 15 16      14 15 16 17 18 19 20      12 13 14 15 16 17 18\n",
      "17 18 19 20 21 22 23      21 22 23 24 25 26 27      19 20 21 22 23 24 25\n",
      "24 25 26 27 28 29 30      28 29 30                  26 27 28 29 30 31\n",
      "31\n",
      "\n"
     ]
    }
   ],
   "source": [
    "import calendar\n",
    "year= int(input('Enter which year calender you want to see '))\n",
    "print(calendar.calendar(year))\n"
   ]
  },
  {
   "cell_type": "markdown",
   "id": "eaa754e4",
   "metadata": {},
   "source": [
    "#  Q4. Write a Python program to solve quadratic equation?"
   ]
  },
  {
   "cell_type": "markdown",
   "id": "c382bdd5",
   "metadata": {},
   "source": [
    "quadratic equation = ax**2 +bx + c and \n",
    "descriminant = b**2 - (4* a * c) and\n",
    "roots = (-b + sqrt(descriminant))/2a , (-b - sqrt(descriminant))/2a"
   ]
  },
  {
   "cell_type": "code",
   "execution_count": 5,
   "id": "680d29b7",
   "metadata": {},
   "outputs": [
    {
     "name": "stdout",
     "output_type": "stream",
     "text": [
      "Roots of 1x**2 + 4x + 5 are (-2-1j) and (-2+1j)\n"
     ]
    }
   ],
   "source": [
    "import cmath\n",
    "\n",
    "a=1\n",
    "b=4\n",
    "c=5\n",
    "\n",
    "d = (b**2) - (4 * a*c)\n",
    "\n",
    "root1 = (-b-cmath.sqrt(d))/(2 * a)\n",
    "root2 = (-b + cmath.sqrt(d))/(2 * a)\n",
    "\n",
    "print(f'Roots of {a}x**2 + {b}x + {c} are {root1} and {root2}')"
   ]
  },
  {
   "cell_type": "markdown",
   "id": "afed9202",
   "metadata": {},
   "source": [
    "# Q5. Write a Python program to swap two variables without temp variable?"
   ]
  },
  {
   "cell_type": "code",
   "execution_count": 6,
   "id": "0d0c8267",
   "metadata": {},
   "outputs": [
    {
     "name": "stdout",
     "output_type": "stream",
     "text": [
      "Enter the value of x 45\n",
      "Enter the value of y 67\n",
      "Before swapping, valaue of x is 45 and value of y is 67\n",
      "After swapping, valaue of x is 67 and value of y is 45\n"
     ]
    }
   ],
   "source": [
    "x= int(input('Enter the value of x '))\n",
    "y= int(input('Enter the value of y '))\n",
    "\n",
    "print('Before swapping, valaue of x is {} and value of y is {}'.format(x,y))\n",
    "\n",
    "x,y=y,x\n",
    "\n",
    "print('After swapping, valaue of x is {} and value of y is {}'.format(x,y))\n"
   ]
  }
 ],
 "metadata": {
  "kernelspec": {
   "display_name": "Python 3",
   "language": "python",
   "name": "python3"
  },
  "language_info": {
   "codemirror_mode": {
    "name": "ipython",
    "version": 3
   },
   "file_extension": ".py",
   "mimetype": "text/x-python",
   "name": "python",
   "nbconvert_exporter": "python",
   "pygments_lexer": "ipython3",
   "version": "3.8.8"
  }
 },
 "nbformat": 4,
 "nbformat_minor": 5
}
