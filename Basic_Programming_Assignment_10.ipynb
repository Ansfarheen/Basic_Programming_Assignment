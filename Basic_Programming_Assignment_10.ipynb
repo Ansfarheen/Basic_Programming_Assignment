{
 "cells": [
  {
   "cell_type": "markdown",
   "id": "f57b883d",
   "metadata": {},
   "source": [
    "## Q1. Write a Python program to find sum of elements in list?"
   ]
  },
  {
   "cell_type": "code",
   "execution_count": 1,
   "id": "fea77a0d",
   "metadata": {},
   "outputs": [
    {
     "name": "stdout",
     "output_type": "stream",
     "text": [
      "Enter the elements of list (Please enter only int and float.)2 23 31.4 32 6.1\n",
      "The sum of [2.0, 23.0, 31.4, 32.0, 6.1] is 94.5\n"
     ]
    }
   ],
   "source": [
    "try:\n",
    "    list1= list(map(float,input('Enter the elements of list (Please enter only int and float.)').split()))\n",
    "    print('The sum of {} is {}'.format(list1,sum(list1)))\n",
    "except:\n",
    "    print('Due to type mismatch sum cannot be found.')"
   ]
  },
  {
   "cell_type": "markdown",
   "id": "33697828",
   "metadata": {},
   "source": [
    "## Q2. Write a Python program to Multiply all numbers in the list?"
   ]
  },
  {
   "cell_type": "code",
   "execution_count": 4,
   "id": "f515b139",
   "metadata": {},
   "outputs": [
    {
     "name": "stdout",
     "output_type": "stream",
     "text": [
      "Enter the elements of list (Please enter only int and float.)2 3.1 23 4 0.2 1 2\n",
      "The product of [2.0, 3.1, 23.0, 4.0, 0.2, 1.0, 2.0] is 228.16\n"
     ]
    }
   ],
   "source": [
    "import math\n",
    "\n",
    "try:\n",
    "    list1= list(map(float,input('Enter the elements of list (Please enter only int and float.)').split()))\n",
    "    print('The product of {} is {}'.format(list1,round(math.prod(list1),2)))\n",
    "except:\n",
    "    print('Due to type mismatch product cannot be found.')"
   ]
  },
  {
   "cell_type": "markdown",
   "id": "735fb66b",
   "metadata": {},
   "source": [
    "## Q3. Write a Python program to find smallest number in a list?"
   ]
  },
  {
   "cell_type": "code",
   "execution_count": 5,
   "id": "f124fe85",
   "metadata": {},
   "outputs": [
    {
     "name": "stdout",
     "output_type": "stream",
     "text": [
      "Enter the elements of list (Please enter only int and float.)2 3 1 5 0.2 1 3 4\n",
      "The smallest elemnt in [2.0, 3.0, 1.0, 5.0, 0.2, 1.0, 3.0, 4.0] is 0.2\n"
     ]
    }
   ],
   "source": [
    "try:\n",
    "    list1= list(map(float,input('Enter the elements of list (Please enter only int and float.)').split()))\n",
    "    print('The smallest elemnt in {} is {}'.format(list1,min(list1)))\n",
    "except:\n",
    "    print('Due to type mismatch smallest element cannot be found.')"
   ]
  },
  {
   "cell_type": "markdown",
   "id": "f9d78b39",
   "metadata": {},
   "source": [
    "## Q4. Write a Python program to find largest number in a list?"
   ]
  },
  {
   "cell_type": "code",
   "execution_count": 6,
   "id": "dee5c373",
   "metadata": {},
   "outputs": [
    {
     "name": "stdout",
     "output_type": "stream",
     "text": [
      "Enter the elements of list (Please enter only int and float.)23 6.7 44 23 99.3 22\n",
      "The largest elemnt in [23.0, 6.7, 44.0, 23.0, 99.3, 22.0] is 99.3\n"
     ]
    }
   ],
   "source": [
    "try:\n",
    "    list1= list(map(float,input('Enter the elements of list (Please enter only int and float.)').split()))\n",
    "    print('The largest elemnt in {} is {}'.format(list1,max(list1)))\n",
    "except:\n",
    "    print('Due to type mismatch largest element cannot be found.')"
   ]
  },
  {
   "cell_type": "markdown",
   "id": "9c32cf65",
   "metadata": {},
   "source": [
    "## Q5. Write a Python program to find second largest number in a list?"
   ]
  },
  {
   "cell_type": "code",
   "execution_count": 7,
   "id": "6ba2a893",
   "metadata": {},
   "outputs": [
    {
     "name": "stdout",
     "output_type": "stream",
     "text": [
      "Enter the elements of list (Please enter only int and float.)2 1 3 5.6 9.5 6.5\n",
      "The second largest elemnt is 6.5\n"
     ]
    }
   ],
   "source": [
    "try:\n",
    "    list1= list(map(float,input('Enter the elements of list (Please enter only int and float.)').split()))\n",
    "    list1.sort()\n",
    "    print('The second largest elemnt is {}'.format(list1[-2]))\n",
    "except:\n",
    "    print('Due to type mismatch second largest element cannot be found.')"
   ]
  },
  {
   "cell_type": "markdown",
   "id": "632a216f",
   "metadata": {},
   "source": [
    "## Q6. Write a Python program to find N largest elements from a list?"
   ]
  },
  {
   "cell_type": "code",
   "execution_count": 8,
   "id": "3b02ad82",
   "metadata": {},
   "outputs": [
    {
     "name": "stdout",
     "output_type": "stream",
     "text": [
      "Enter the elements of list (Please enter only int and float.)2.3 2.4 5.5 2 1 5 7\n",
      "Please enter the value of n : 4\n",
      "The 4 largest elemnt in [1.0, 2.0, 2.3, 2.4, 5.0, 5.5, 7.0] is [2.4, 5.0, 5.5, 7.0]\n"
     ]
    }
   ],
   "source": [
    "try:\n",
    "    list1= list(map(float,input('Enter the elements of list (Please enter only int and float.)').split()))\n",
    "    n= int(input('Please enter the value of n : '))\n",
    "    n=n % len(list1)\n",
    "    list1.sort()\n",
    "    print('The {} largest elemnt in {} is {}'.format(n,list1,list1[-n:]))\n",
    "except:\n",
    "    print('Due to type mismatch n largest element cannot be found.')"
   ]
  },
  {
   "cell_type": "markdown",
   "id": "4860edbf",
   "metadata": {},
   "source": [
    "## Q7. Write a Python program to print even numbers in a list?"
   ]
  },
  {
   "cell_type": "code",
   "execution_count": 9,
   "id": "b7ec1d68",
   "metadata": {},
   "outputs": [
    {
     "name": "stdout",
     "output_type": "stream",
     "text": [
      "Enter the elements of list (Please enter only int)2 3 1 56 8 22 12\n",
      "The even numbers in [2, 3, 1, 56, 8, 22, 12] is [2, 56, 8, 22, 12]\n"
     ]
    }
   ],
   "source": [
    "try:\n",
    "    list1= list(map(int,input('Enter the elements of list (Please enter only int)').split()))\n",
    "    result=[]\n",
    "    for i in list1:\n",
    "        if i%2==0:\n",
    "            result.append(i)\n",
    "    print('The even numbers in {} is {}'.format(list1,result))\n",
    "except:\n",
    "    print('Due to type mismatch even numbers cannot be found.')"
   ]
  },
  {
   "cell_type": "markdown",
   "id": "135bdcc7",
   "metadata": {},
   "source": [
    "## Q8. Write a Python program to print odd numbers in a List?"
   ]
  },
  {
   "cell_type": "code",
   "execution_count": 10,
   "id": "5c612d91",
   "metadata": {},
   "outputs": [
    {
     "name": "stdout",
     "output_type": "stream",
     "text": [
      "Enter the elements of list (Please enter only int)22 14 3 5 71 42 9\n",
      "The odd numbers in [22, 14, 3, 5, 71, 42, 9] is [3, 5, 71, 9]\n"
     ]
    }
   ],
   "source": [
    "try:\n",
    "    list1= list(map(int,input('Enter the elements of list (Please enter only int)').split()))\n",
    "    result=[]\n",
    "    for i in list1:\n",
    "        if i%2!=0:\n",
    "            result.append(i)\n",
    "    print('The odd numbers in {} is {}'.format(list1,result))\n",
    "except:\n",
    "    print('Due to type mismatch odd numbers cannot be found.')"
   ]
  },
  {
   "cell_type": "markdown",
   "id": "4730c2ec",
   "metadata": {},
   "source": [
    "## Q9. Write a Python program to Remove empty List from List?"
   ]
  },
  {
   "cell_type": "code",
   "execution_count": 11,
   "id": "85af38a4",
   "metadata": {},
   "outputs": [
    {
     "name": "stdout",
     "output_type": "stream",
     "text": [
      "The list after removing empty list from list [[], 34, 'happy', 987, 8653.9, []] is [34, 'happy', 987, 8653.9]\n"
     ]
    }
   ],
   "source": [
    "list1= [[],34,'happy',987,8653.9,[]]\n",
    "res=[]\n",
    "for i in list1:\n",
    "    if i:\n",
    "        res.append(i)\n",
    "print('The list after removing empty list from list {} is {}'.format(list1,res))"
   ]
  },
  {
   "cell_type": "markdown",
   "id": "cf204c76",
   "metadata": {},
   "source": [
    "## Q10. Write a Python program to Cloning or Copying a list?"
   ]
  },
  {
   "cell_type": "code",
   "execution_count": 12,
   "id": "58a1f3aa",
   "metadata": {},
   "outputs": [
    {
     "name": "stdout",
     "output_type": "stream",
     "text": [
      "Enter the elements of list 2 1 3 4.4 hello 8.2\n",
      "The copy of ['2', '1', '3', '4.4', 'hello', '8.2'] is ['2', '1', '3', '4.4', 'hello', '8.2']\n"
     ]
    }
   ],
   "source": [
    "list1= list(map(str,input('Enter the elements of list ').split()))\n",
    "\n",
    "print('The copy of {} is {}'.format(list1,list1.copy()))"
   ]
  },
  {
   "cell_type": "markdown",
   "id": "a3e161c8",
   "metadata": {},
   "source": [
    "## Q11. Write a Python program to Count occurrences of an element in a list?"
   ]
  },
  {
   "cell_type": "code",
   "execution_count": 14,
   "id": "7c05ef1f",
   "metadata": {},
   "outputs": [
    {
     "name": "stdout",
     "output_type": "stream",
     "text": [
      "Enter the elements of list 1 hello 2 1 45 1 65.2 21\n",
      "Enter the element which you want to count 1\n",
      "The occurrence of 1 in ['1', 'hello', '2', '1', '45', '1', '65.2', '21'] is 3\n"
     ]
    }
   ],
   "source": [
    "list1= list(map(str,input('Enter the elements of list ').split()))\n",
    "c= input('Enter the element which you want to count ')\n",
    "print('The occurrence of {} in {} is {}'.format(c,list1,list1.count(c)))"
   ]
  },
  {
   "cell_type": "code",
   "execution_count": null,
   "id": "e7248422",
   "metadata": {},
   "outputs": [],
   "source": []
  }
 ],
 "metadata": {
  "kernelspec": {
   "display_name": "Python 3",
   "language": "python",
   "name": "python3"
  },
  "language_info": {
   "codemirror_mode": {
    "name": "ipython",
    "version": 3
   },
   "file_extension": ".py",
   "mimetype": "text/x-python",
   "name": "python",
   "nbconvert_exporter": "python",
   "pygments_lexer": "ipython3",
   "version": "3.8.8"
  }
 },
 "nbformat": 4,
 "nbformat_minor": 5
}
