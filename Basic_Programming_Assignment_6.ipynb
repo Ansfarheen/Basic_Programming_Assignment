{
 "cells": [
  {
   "cell_type": "markdown",
   "id": "083fec54",
   "metadata": {},
   "source": [
    "# 1. Write a Python Program to Display Fibonacci Sequence Using Recursion?"
   ]
  },
  {
   "cell_type": "code",
   "execution_count": 1,
   "id": "c35ca234",
   "metadata": {},
   "outputs": [
    {
     "name": "stdout",
     "output_type": "stream",
     "text": [
      "Enter how many numbers you want 19\n",
      "Fibonacci Sequence is 0 1 1 2 3 5 8 13 21 34 55 89 144 233 377 610 987 1597 2584 "
     ]
    }
   ],
   "source": [
    "def fib_recur(n):\n",
    "    if n==1 or n==2:\n",
    "        return 1\n",
    "    if n==0:\n",
    "        return 0\n",
    "    else:\n",
    "        return fib_recur(n-1)+fib_recur(n-2)\n",
    "    \n",
    "num=int(input('Enter how many numbers you want '))\n",
    "if num<=0:\n",
    "    print('Incorrect Input')\n",
    "else:\n",
    "    print('Fibonacci Sequence is',end=\" \")\n",
    "    for i in range(num):\n",
    "        print(fib_recur(i),end=\" \")"
   ]
  },
  {
   "cell_type": "markdown",
   "id": "3e01965f",
   "metadata": {},
   "source": [
    "# 2.Write a Python Program to Find Factorial of Number Using Recursion?"
   ]
  },
  {
   "cell_type": "code",
   "execution_count": 2,
   "id": "acce2b3f",
   "metadata": {},
   "outputs": [
    {
     "name": "stdout",
     "output_type": "stream",
     "text": [
      "Enter the number 23\n",
      "23! = 25852016738884976640000\n"
     ]
    }
   ],
   "source": [
    "def fact_recur(num):\n",
    "    if num==1 or num==0:\n",
    "        return 1\n",
    "    else:\n",
    "        return num*fact_recur(num-1)\n",
    "\n",
    "num= int(input('Enter the number '))\n",
    "if num<0:\n",
    "    print('Please enter a positive number')\n",
    "else:\n",
    "    print('{}! = {}'.format(num,fact_recur(num)))\n"
   ]
  },
  {
   "cell_type": "markdown",
   "id": "a3a9ec2a",
   "metadata": {},
   "source": [
    "# 3. Write a Python Program to calculate your Body Mass Index?"
   ]
  },
  {
   "cell_type": "code",
   "execution_count": 3,
   "id": "3980d836",
   "metadata": {},
   "outputs": [
    {
     "name": "stdout",
     "output_type": "stream",
     "text": [
      "Enter the height in meter 1.623\n",
      "Enter the weight in kg 55\n",
      "The BMI is  20.88\n"
     ]
    }
   ],
   "source": [
    "height = float(input('Enter the height in meter '))\n",
    "weight = float(input('Enter the weight in kg '))\n",
    "bmi = round(weight/(height**2),2)\n",
    "\n",
    "print(\"The BMI is \",bmi)"
   ]
  },
  {
   "cell_type": "markdown",
   "id": "8f4afe71",
   "metadata": {},
   "source": [
    "# 4.Write a Python Program to calculate the natural logarithm of any number?"
   ]
  },
  {
   "cell_type": "code",
   "execution_count": 4,
   "id": "40ff2885",
   "metadata": {},
   "outputs": [
    {
     "name": "stdout",
     "output_type": "stream",
     "text": [
      "Enter the number 34\n",
      "The natural log of 34.0 is 3.5263605246161616\n"
     ]
    }
   ],
   "source": [
    "import math\n",
    "num= float(input('Enter the number '))\n",
    "print('The natural log of {} is {}'.format(num,math.log(num)))"
   ]
  },
  {
   "cell_type": "markdown",
   "id": "e9b7fa50",
   "metadata": {},
   "source": [
    "# 5. Write a Python Program for cube sum of first n natural numbers?"
   ]
  },
  {
   "cell_type": "code",
   "execution_count": 7,
   "id": "04173c7d",
   "metadata": {},
   "outputs": [
    {
     "name": "stdout",
     "output_type": "stream",
     "text": [
      "Enter a number 20\n",
      "Sum of 20 natural numbers is 44100\n"
     ]
    }
   ],
   "source": [
    "num= int(input('Enter a number '))\n",
    "sum=0\n",
    "for i in range(1,num+1):\n",
    "    sum+=i**3\n",
    "print('Sum of {} natural numbers is {}'.format(num,sum))"
   ]
  },
  {
   "cell_type": "code",
   "execution_count": null,
   "id": "d57f10aa",
   "metadata": {},
   "outputs": [],
   "source": []
  }
 ],
 "metadata": {
  "kernelspec": {
   "display_name": "Python 3",
   "language": "python",
   "name": "python3"
  },
  "language_info": {
   "codemirror_mode": {
    "name": "ipython",
    "version": 3
   },
   "file_extension": ".py",
   "mimetype": "text/x-python",
   "name": "python",
   "nbconvert_exporter": "python",
   "pygments_lexer": "ipython3",
   "version": "3.8.8"
  }
 },
 "nbformat": 4,
 "nbformat_minor": 5
}
