{
 "cells": [
  {
   "cell_type": "markdown",
   "id": "4f7bdd31",
   "metadata": {},
   "source": [
    "# Q1. Write a Python program to print \"Hello Python\"?"
   ]
  },
  {
   "cell_type": "code",
   "execution_count": 8,
   "id": "7e7b2766",
   "metadata": {},
   "outputs": [
    {
     "name": "stdout",
     "output_type": "stream",
     "text": [
      "Hello Python\n"
     ]
    }
   ],
   "source": [
    "print('Hello Python')"
   ]
  },
  {
   "cell_type": "markdown",
   "id": "61308927",
   "metadata": {},
   "source": [
    "# Q2. Write a Python program to do arithmetical operations addition and division.?"
   ]
  },
  {
   "cell_type": "code",
   "execution_count": 9,
   "id": "2ff621d4",
   "metadata": {},
   "outputs": [
    {
     "name": "stdout",
     "output_type": "stream",
     "text": [
      "The sum of 8 and 2 is 10\n",
      "The quotient after dividing 8 by 2 is 4.0\n"
     ]
    }
   ],
   "source": [
    "a,b= 8,2\n",
    "\n",
    "print('The sum of {} and {} is {}'.format(a,b,a+b))\n",
    "print('The quotient after dividing {} by {} is {}'.format(a,b,a/b))"
   ]
  },
  {
   "cell_type": "markdown",
   "id": "c9a7cc1a",
   "metadata": {},
   "source": [
    "# Q3. Write a Python program to find the area of a triangle?"
   ]
  },
  {
   "cell_type": "code",
   "execution_count": 10,
   "id": "b593f7ca",
   "metadata": {},
   "outputs": [
    {
     "name": "stdout",
     "output_type": "stream",
     "text": [
      "Enter the base of triangle 10\n",
      "Enter the altitude of triangle 15\n",
      "Area of triangle is  75.0\n"
     ]
    }
   ],
   "source": [
    "base= int(input('Enter the base of triangle '))\n",
    "altitude= int(input('Enter the altitude of triangle '))\n",
    "area= 0.5 * base * altitude\n",
    "print('Area of triangle is ',area)"
   ]
  },
  {
   "cell_type": "markdown",
   "id": "3282b3c7",
   "metadata": {},
   "source": [
    "# Q4. Write a Python program to swap two variables?"
   ]
  },
  {
   "cell_type": "code",
   "execution_count": 11,
   "id": "66cbb380",
   "metadata": {},
   "outputs": [
    {
     "name": "stdout",
     "output_type": "stream",
     "text": [
      "Before swapping, valaue of a is 3 and value of b is 8\n",
      "After swapping, valaue of a is 8 and value of b is 3\n"
     ]
    }
   ],
   "source": [
    "a=3\n",
    "b=8\n",
    "print('Before swapping, valaue of a is {} and value of b is {}'.format(a,b))\n",
    "\n",
    "temp=a\n",
    "a=b\n",
    "b=temp\n",
    "\n",
    "print('After swapping, valaue of a is {} and value of b is {}'.format(a,b))"
   ]
  },
  {
   "cell_type": "markdown",
   "id": "3a4e37e3",
   "metadata": {},
   "source": [
    "# Q5. Write a Python program to generate a random number?"
   ]
  },
  {
   "cell_type": "code",
   "execution_count": 12,
   "id": "aa194499",
   "metadata": {},
   "outputs": [
    {
     "name": "stdout",
     "output_type": "stream",
     "text": [
      "Random number between 1 and 1000 is  962\n"
     ]
    }
   ],
   "source": [
    "# 5. Write a Python program to generate a random number?\n",
    "\n",
    "import random\n",
    "\n",
    "print('Random number between 1 and 1000 is ', random.randint(1,1000))"
   ]
  }
 ],
 "metadata": {
  "kernelspec": {
   "display_name": "Python 3",
   "language": "python",
   "name": "python3"
  },
  "language_info": {
   "codemirror_mode": {
    "name": "ipython",
    "version": 3
   },
   "file_extension": ".py",
   "mimetype": "text/x-python",
   "name": "python",
   "nbconvert_exporter": "python",
   "pygments_lexer": "ipython3",
   "version": "3.8.8"
  }
 },
 "nbformat": 4,
 "nbformat_minor": 5
}
