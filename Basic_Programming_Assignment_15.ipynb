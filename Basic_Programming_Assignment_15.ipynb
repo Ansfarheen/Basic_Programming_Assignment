{
 "cells": [
  {
   "cell_type": "markdown",
   "id": "e72f51b8",
   "metadata": {},
   "source": [
    "## Question 1:\n",
    "Please write a program using generator to print the numbers which can be divisible by 5 and\n",
    "7 between 0 and n in comma separated form while n is input by console.\n",
    "Example:\n",
    "If the following n is given as input to the program:\n",
    "100\n",
    "Then, the output of the program should be:\n",
    "0,35,70"
   ]
  },
  {
   "cell_type": "code",
   "execution_count": 1,
   "id": "b2b95ce5",
   "metadata": {},
   "outputs": [
    {
     "name": "stdout",
     "output_type": "stream",
     "text": [
      "Enter the value of n : 100\n",
      "0 35 70 "
     ]
    }
   ],
   "source": [
    "def divisible_by_5_and_7(num):\n",
    "    for i in range(num+1):\n",
    "        if i %5 == 0 and i%7==0:\n",
    "            yield i\n",
    "            \n",
    "n= int(input('Enter the value of n : '))\n",
    "for i in divisible_by_5_and_7(n):\n",
    "    print(i,end=\" \")"
   ]
  },
  {
   "cell_type": "markdown",
   "id": "0ce012e3",
   "metadata": {},
   "source": [
    "## Question 2:\n",
    "Please write a program using generator to print the even numbers between 0 and n in comma\n",
    "separated form while n is input by console.\n",
    "Example:\n",
    "If the following n is given as input to the program:\n",
    "10\n",
    "Then, the output of the program should be:\n",
    "0,2,4,6,8,10"
   ]
  },
  {
   "cell_type": "code",
   "execution_count": 2,
   "id": "10352870",
   "metadata": {},
   "outputs": [
    {
     "name": "stdout",
     "output_type": "stream",
     "text": [
      "Enter the value of n : 10\n",
      "0,2,4,6,8,10\n"
     ]
    }
   ],
   "source": [
    "def even(num):\n",
    "    for i in range(num+1):\n",
    "        if i%2==0:\n",
    "            yield i\n",
    "\n",
    "res=[]\n",
    "n= int(input('Enter the value of n : '))\n",
    "for i in even(n):\n",
    "    res.append(str(i))\n",
    "print(','.join(res))"
   ]
  },
  {
   "cell_type": "markdown",
   "id": "dad401cb",
   "metadata": {},
   "source": [
    "## Question 3:\n",
    "The Fibonacci Sequence is computed based on the following formula:\n",
    "f(n)=0 if n=0\n",
    "f(n)=1 if n=1\n",
    "f(n)=f(n-1)+f(n-2) if n&gt;1\n",
    "Please write a program using list comprehension to print the Fibonacci Sequence in comma\n",
    "separated form with a given n input by console.\n",
    "Example:\n",
    "If the following n is given as input to the program:\n",
    "7\n",
    "\n",
    "Then, the output of the program should be:\n",
    "0,1,1,2,3,5,8,13"
   ]
  },
  {
   "cell_type": "code",
   "execution_count": 3,
   "id": "9d11cded",
   "metadata": {},
   "outputs": [
    {
     "name": "stdout",
     "output_type": "stream",
     "text": [
      "Enter the value of n : 7\n",
      "0, 1, 1, 2, 3, 5, 8, 13\n"
     ]
    }
   ],
   "source": [
    "series=[]\n",
    "n= int(input('Enter the value of n : '))\n",
    "series.append(0)\n",
    "series.append(1)\n",
    "[series.append(series[k-1]+series[k-2]) for k in range(2,n+1)]\n",
    "print(str(series)[1:-1])"
   ]
  },
  {
   "cell_type": "markdown",
   "id": "add33e21",
   "metadata": {},
   "source": [
    "## Question 4:\n",
    "Assuming that we have some email addresses in the &quot;username@companyname.com&quot; format,\n",
    "please write program to print the user name of a given email address. Both user names and\n",
    "company names are composed of letters only.\n",
    "Example:\n",
    "If the following email address is given as input to the program:\n",
    "john@google.com\n",
    "Then, the output of the program should be:\n",
    "john"
   ]
  },
  {
   "cell_type": "code",
   "execution_count": 4,
   "id": "b78301d0",
   "metadata": {},
   "outputs": [
    {
     "name": "stdout",
     "output_type": "stream",
     "text": [
      "Enter the email address : john@google.com\n",
      "User name :  john\n"
     ]
    }
   ],
   "source": [
    "email = input(\"Enter the email address : \").split('@')\n",
    "print('User name : ',email[0])"
   ]
  },
  {
   "cell_type": "markdown",
   "id": "ff73ef82",
   "metadata": {},
   "source": [
    "## Question 5:\n",
    "Define a class named Shape and its subclass Square. The Square class has an init function\n",
    "which takes a length as argument. Both classes have a area function which can print the area\n",
    "of the shape where Shape's area is 0 by default."
   ]
  },
  {
   "cell_type": "code",
   "execution_count": 5,
   "id": "ead1f34f",
   "metadata": {},
   "outputs": [
    {
     "name": "stdout",
     "output_type": "stream",
     "text": [
      "81\n"
     ]
    }
   ],
   "source": [
    "class Shape:\n",
    "    def area(self):\n",
    "        print(0)\n",
    "\n",
    "class Square(Shape):\n",
    "    def __init__(self,length):\n",
    "        self.length=length\n",
    "    def area(self):\n",
    "        print(self.length*self.length)\n",
    "        \n",
    "shape=Square(9)\n",
    "shape.area()\n"
   ]
  },
  {
   "cell_type": "code",
   "execution_count": null,
   "id": "e37cf8e2",
   "metadata": {},
   "outputs": [],
   "source": []
  }
 ],
 "metadata": {
  "kernelspec": {
   "display_name": "Python 3",
   "language": "python",
   "name": "python3"
  },
  "language_info": {
   "codemirror_mode": {
    "name": "ipython",
    "version": 3
   },
   "file_extension": ".py",
   "mimetype": "text/x-python",
   "name": "python",
   "nbconvert_exporter": "python",
   "pygments_lexer": "ipython3",
   "version": "3.8.8"
  }
 },
 "nbformat": 4,
 "nbformat_minor": 5
}
