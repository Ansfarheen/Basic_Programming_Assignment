{
 "cells": [
  {
   "cell_type": "markdown",
   "id": "a0286e8b",
   "metadata": {},
   "source": [
    "# Q1. Write a Python Program to Find LCM?\n",
    "\n",
    "The least common multiple (L.C.M.) of two numbers is the smallest positive integer that is perfectly divisible by the two given numbers."
   ]
  },
  {
   "cell_type": "code",
   "execution_count": 1,
   "id": "c3262c7a",
   "metadata": {},
   "outputs": [
    {
     "name": "stdout",
     "output_type": "stream",
     "text": [
      "Enter the first number 32\n",
      "Enter the second number 102\n",
      "The LCM of 32 and 102 is 1632\n"
     ]
    }
   ],
   "source": [
    "num1= int(input('Enter the first number '))\n",
    "num2= int(input('Enter the second number '))\n",
    "if num1>num2:\n",
    "    big=num1\n",
    "else:\n",
    "    big=num2\n",
    "\n",
    "while True:\n",
    "    if big %num1==0 and big%num2==0:\n",
    "        lcm=big\n",
    "        break\n",
    "    big+=1\n",
    "    \n",
    "print(f'The LCM of {num1} and {num2} is {lcm}')"
   ]
  },
  {
   "cell_type": "markdown",
   "id": "5a04e360",
   "metadata": {},
   "source": [
    "# Q2. Write a Python Program to Find HCF?\n",
    "\n",
    "The highest common factor (H.C.F) or greatest common divisor (G.C.D) of two numbers is the largest positive integer that perfectly divides the two given numbers. "
   ]
  },
  {
   "cell_type": "code",
   "execution_count": 2,
   "id": "506cac2a",
   "metadata": {},
   "outputs": [
    {
     "name": "stdout",
     "output_type": "stream",
     "text": [
      "Enter the first number 63\n",
      "Enter the second number 45\n",
      "The HCF of 63 and 45 is 9\n"
     ]
    }
   ],
   "source": [
    "num1= int(input('Enter the first number '))\n",
    "num2= int(input('Enter the second number '))\n",
    "if num1>num2:\n",
    "    small=num2\n",
    "else:\n",
    "    small=num1\n",
    "\n",
    "for i in range(1,small+1):\n",
    "    if num1%i==0 and num2%i==0:\n",
    "        hcf=i\n",
    "    \n",
    "    \n",
    "print(f'The HCF of {num1} and {num2} is {hcf}')"
   ]
  },
  {
   "cell_type": "markdown",
   "id": "0338b7ad",
   "metadata": {},
   "source": [
    "# Q3. Write a Python Program to Convert Decimal to Binary, Octal and Hexadecimal?"
   ]
  },
  {
   "cell_type": "code",
   "execution_count": 3,
   "id": "4e47f62b",
   "metadata": {},
   "outputs": [
    {
     "name": "stdout",
     "output_type": "stream",
     "text": [
      "Enter a number 92\n",
      "92 in binary is 0b1011100\n",
      "92 in octal is 0o134\n",
      "92 in hexadecimal is 0x5c\n"
     ]
    }
   ],
   "source": [
    "number= int(input('Enter a number '))\n",
    "print(f'{number} in binary is {bin(number)}')\n",
    "print(f'{number} in octal is {oct(number)}')\n",
    "print(f'{number} in hexadecimal is {hex(number)}')"
   ]
  },
  {
   "cell_type": "markdown",
   "id": "e5b60a8f",
   "metadata": {},
   "source": [
    "# Q4. Write a Python Program To Find ASCII value of a character?"
   ]
  },
  {
   "cell_type": "code",
   "execution_count": 4,
   "id": "de2967d2",
   "metadata": {},
   "outputs": [
    {
     "name": "stdout",
     "output_type": "stream",
     "text": [
      "Enter a character B\n",
      "ASCII value of B is 66\n"
     ]
    }
   ],
   "source": [
    "ch= input('Enter a character ')\n",
    "print('ASCII value of {} is {}'.format(ch,ord(ch)))"
   ]
  },
  {
   "cell_type": "markdown",
   "id": "84b02a0d",
   "metadata": {},
   "source": [
    "# Q5. Write a Python Program to Make a Simple Calculator with 4 basic mathematical operations?"
   ]
  },
  {
   "cell_type": "code",
   "execution_count": 5,
   "id": "d7922ec0",
   "metadata": {},
   "outputs": [
    {
     "name": "stdout",
     "output_type": "stream",
     "text": [
      "Enter the first number 12\n",
      "Enter the second number 90\n",
      "Choose an option\n",
      "Enter + for addition \n",
      "Enter - for subtraction \n",
      "Enter * for multiplication \n",
      "Enter / for division \n",
      "+\n",
      "12.0 + 90.0 = 102.0\n"
     ]
    }
   ],
   "source": [
    "num1= float(input('Enter the first number '))\n",
    "num2= float(input('Enter the second number '))\n",
    "\n",
    "print('Choose an option')\n",
    "op= input('Enter + for addition \\nEnter - for subtraction \\nEnter * for multiplication \\nEnter / for division \\n')\n",
    "\n",
    "if op=='+':\n",
    "    print(f'{num1} + {num2} = {num1+num2}')\n",
    "elif op=='-':\n",
    "    print(f'{num1} - {num2} = {num1-num2}')\n",
    "elif op=='*':\n",
    "    print(f'{num1} * {num2} = {num1*num2}')\n",
    "elif op=='/':\n",
    "    if num1==0 or num2==0:\n",
    "        print('Division with zero is not possible')\n",
    "        \n",
    "    else:\n",
    "        print(f'{num1} / {num2} = {num1/num2}')\n",
    "else:\n",
    "    print('You have chosen wrong option!!!')\n",
    "    "
   ]
  }
 ],
 "metadata": {
  "kernelspec": {
   "display_name": "Python 3",
   "language": "python",
   "name": "python3"
  },
  "language_info": {
   "codemirror_mode": {
    "name": "ipython",
    "version": 3
   },
   "file_extension": ".py",
   "mimetype": "text/x-python",
   "name": "python",
   "nbconvert_exporter": "python",
   "pygments_lexer": "ipython3",
   "version": "3.8.8"
  }
 },
 "nbformat": 4,
 "nbformat_minor": 5
}
