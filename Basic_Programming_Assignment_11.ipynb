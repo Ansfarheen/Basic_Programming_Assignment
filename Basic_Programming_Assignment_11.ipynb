{
 "cells": [
  {
   "cell_type": "markdown",
   "id": "b2c0b3f2",
   "metadata": {},
   "source": [
    "## Q1. Write a Python program to find words which are greater than given length k?"
   ]
  },
  {
   "cell_type": "code",
   "execution_count": 1,
   "id": "5ca97938",
   "metadata": {},
   "outputs": [
    {
     "name": "stdout",
     "output_type": "stream",
     "text": [
      "Enter the string please find words greater than length k\n",
      "Please enter the value of k 4\n",
      "The words in ['please', 'find', 'words', 'greater', 'than', 'length', 'k'] which are greater than length 4 are ['please', 'find', 'words', 'greater', 'than', 'length'].\n"
     ]
    }
   ],
   "source": [
    "str1=input('Enter the string ')\n",
    "k= int(input('Please enter the value of k '))\n",
    "res=[]\n",
    "string=str1.split()\n",
    "for i in string:\n",
    "    if len(i)>=k:\n",
    "        res.append(i)\n",
    "print('The words in {} which are greater than length {} are {}.'.format(string,k,res))"
   ]
  },
  {
   "cell_type": "markdown",
   "id": "06178f63",
   "metadata": {},
   "source": [
    "## Q2.Write a Python program for removing i-th character from a string?"
   ]
  },
  {
   "cell_type": "code",
   "execution_count": 2,
   "id": "cc14d170",
   "metadata": {},
   "outputs": [
    {
     "name": "stdout",
     "output_type": "stream",
     "text": [
      "Enter the string please remove ith character\n",
      "Enter the character which you want to remove 9\n",
      "The \"please remove ith character\" after removing 9th element is \"please reove ith character\"\n"
     ]
    }
   ],
   "source": [
    "str1=input('Enter the string ')\n",
    "i=int(input('Enter the character which you want to remove '))\n",
    "print('The \"{}\" after removing {}th element is \"{}\"'.format(str1,i,str1[:i]+str1[i+1:]))"
   ]
  },
  {
   "cell_type": "markdown",
   "id": "7b7f7ab6",
   "metadata": {},
   "source": [
    "## Q3. Write a Python program to split and join a string?"
   ]
  },
  {
   "cell_type": "code",
   "execution_count": 3,
   "id": "4aff8c06",
   "metadata": {},
   "outputs": [
    {
     "name": "stdout",
     "output_type": "stream",
     "text": [
      "Enter the string please split this string\n",
      "The \"please split this string\" after splitting is ['please', 'split', 'this', 'string']\n",
      "The ['please', 'split', 'this', 'string'] after joing is \"please-split-this-string\"\n"
     ]
    }
   ],
   "source": [
    "str1=input('Enter the string ')\n",
    "split= str1.split()\n",
    "print('The \"{}\" after splitting is {}'.format(str1,split))\n",
    "\n",
    "join='-'.join(split)\n",
    "print('The {} after joing is \"{}\"'.format(split,join))"
   ]
  },
  {
   "cell_type": "markdown",
   "id": "efe0516b",
   "metadata": {},
   "source": [
    "## Q4. Write a Python to check if a given string is binary string or not?"
   ]
  },
  {
   "cell_type": "code",
   "execution_count": 4,
   "id": "313b0faf",
   "metadata": {},
   "outputs": [
    {
     "name": "stdout",
     "output_type": "stream",
     "text": [
      "Enter the string 01010100011\n",
      "01010100011 is a binary string.\n"
     ]
    }
   ],
   "source": [
    "str1=input('Enter the string ')\n",
    "flag=0\n",
    "binary='01'\n",
    "for i in str1:\n",
    "    if i not in binary:\n",
    "        print('{} is not a binary string'.format(str1))\n",
    "        break\n",
    "else:\n",
    "    print('{} is a binary string.'.format(str1))\n",
    "        "
   ]
  },
  {
   "cell_type": "markdown",
   "id": "2197baf0",
   "metadata": {},
   "source": [
    "## Q5. Write a Python program to find uncommon words from two Strings?"
   ]
  },
  {
   "cell_type": "code",
   "execution_count": 5,
   "id": "153e1f56",
   "metadata": {},
   "outputs": [
    {
     "name": "stdout",
     "output_type": "stream",
     "text": [
      "Enter the first string pat sat cat rat tail find tom\n",
      "Enter the second string sherry rat pat harry tail june\n",
      "The uncommon words from \"pat sat cat rat tail find tom\" and \"sherry rat pat harry tail june\" are ['sat', 'cat', 'find', 'tom', 'sherry', 'harry', 'june']\n"
     ]
    }
   ],
   "source": [
    "str1= input('Enter the first string ')\n",
    "str2= input('Enter the second string ')\n",
    "\n",
    "list1= str1.split()\n",
    "list2= str2.split()\n",
    "\n",
    "uncommon=[]\n",
    "for i in list1:\n",
    "    if i not in list2:\n",
    "        uncommon.append(i)\n",
    "for i in list2:\n",
    "    if i not in list1:\n",
    "        uncommon.append(i)\n",
    "\n",
    "print('The uncommon words from \"{}\" and \"{}\" are {}'.format(str1,str2,uncommon))\n",
    "        "
   ]
  },
  {
   "cell_type": "markdown",
   "id": "b45a430a",
   "metadata": {},
   "source": [
    "## Q5. Write a Python to find all duplicate characters in string?"
   ]
  },
  {
   "cell_type": "code",
   "execution_count": 7,
   "id": "fd19f815",
   "metadata": {},
   "outputs": [
    {
     "name": "stdout",
     "output_type": "stream",
     "text": [
      "Enter a string hiifindthe duplicates\n",
      "The duplicate character in string \"hiifindthe duplicates\" is ['h', 'i', 'd', 't', 'e']\n"
     ]
    }
   ],
   "source": [
    "string= input('Enter a string ')\n",
    "res=[]\n",
    "for i in string:\n",
    "    if string.count(i)>1:\n",
    "        if i not in res:\n",
    "            res.append(i)\n",
    "\n",
    "print('The duplicate character in string \"{}\" is {}'.format(string,res))\n",
    "        "
   ]
  },
  {
   "cell_type": "markdown",
   "id": "44b0c4b4",
   "metadata": {},
   "source": [
    "## Q6. Write a Python Program to check if a string contains any special character?"
   ]
  },
  {
   "cell_type": "code",
   "execution_count": 8,
   "id": "72f893c8",
   "metadata": {},
   "outputs": [
    {
     "name": "stdout",
     "output_type": "stream",
     "text": [
      "Enter a string please#@check^speci$al\n",
      "The string \"please#@check^speci$al\" contains special character.\n"
     ]
    }
   ],
   "source": [
    "import string\n",
    "punc= string.punctuation\n",
    "str1= input('Enter a string ')\n",
    "for i in str1:\n",
    "    if i in punc:\n",
    "        print('The string \"{}\" contains special character.'.format(str1))\n",
    "        break\n",
    "else:\n",
    "    print('The string \"{}\" doesnot contain any special character.'.format(str1))\n"
   ]
  }
 ],
 "metadata": {
  "kernelspec": {
   "display_name": "Python 3",
   "language": "python",
   "name": "python3"
  },
  "language_info": {
   "codemirror_mode": {
    "name": "ipython",
    "version": 3
   },
   "file_extension": ".py",
   "mimetype": "text/x-python",
   "name": "python",
   "nbconvert_exporter": "python",
   "pygments_lexer": "ipython3",
   "version": "3.8.8"
  }
 },
 "nbformat": 4,
 "nbformat_minor": 5
}
