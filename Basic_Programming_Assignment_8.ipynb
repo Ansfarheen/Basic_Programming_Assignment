{
 "cells": [
  {
   "cell_type": "markdown",
   "id": "53982f13",
   "metadata": {},
   "source": [
    "# 1.Write a Python Program to Add Two Matrices?"
   ]
  },
  {
   "cell_type": "code",
   "execution_count": 1,
   "id": "395619d4",
   "metadata": {},
   "outputs": [
    {
     "name": "stdout",
     "output_type": "stream",
     "text": [
      "Enter the size of matrices 2 2\n",
      "Enter the elements of matrix1 1 2 3 4\n",
      "Enter the elements of matrix2 5 6 3 4\n",
      "The first matrix is\n",
      " [[1 2]\n",
      " [3 4]]\n",
      "The second matrix is\n",
      " [[5 6]\n",
      " [3 4]]\n",
      "The sum of two matrices is\n",
      " [[6 8]\n",
      " [6 8]]\n"
     ]
    }
   ],
   "source": [
    "import numpy as np\n",
    "m,n=map(int,input('Enter the size of matrices ').split())\n",
    "l1= list(map(int,input('Enter the elements of matrix1 ').split()))\n",
    "l2= list(map(int,input('Enter the elements of matrix2 ').split()))\n",
    "if len(l1)== m*n and len(l2)==m*n:\n",
    "    m1= (np.array(l1)).reshape(m,n)\n",
    "    m2= (np.array(l2)).reshape(m,n)\n",
    "    print('The first matrix is\\n',m1)\n",
    "    print('The second matrix is\\n',m2)\n",
    "    print('The sum of two matrices is\\n', m1+m2)\n",
    "else:\n",
    "    print('You have entered wrong number of elements. ')"
   ]
  },
  {
   "cell_type": "markdown",
   "id": "91db93fc",
   "metadata": {},
   "source": [
    "# 2. Write a Python Program to Multiply Two Matrices?"
   ]
  },
  {
   "cell_type": "code",
   "execution_count": 2,
   "id": "6b2c80b9",
   "metadata": {},
   "outputs": [
    {
     "name": "stdout",
     "output_type": "stream",
     "text": [
      "Enter the size of matrix1 3 2\n",
      "Enter the size of matrix2 2 3\n",
      "Enter the elements of matrix1 1 2 3 4 5 6\n",
      "Enter the elements of matrix2 2 1 3 4 5 6\n",
      "The first matrix is\n",
      " [[1 2]\n",
      " [3 4]\n",
      " [5 6]]\n",
      "The second matrix is\n",
      " [[2 1 3]\n",
      " [4 5 6]]\n",
      "The product of two matrices is\n",
      " [[10 11 15]\n",
      " [22 23 33]\n",
      " [34 35 51]]\n"
     ]
    }
   ],
   "source": [
    "import numpy as np\n",
    "m1,n1=map(int,input('Enter the size of matrix1 ').split())\n",
    "m2,n2=map(int,input('Enter the size of matrix2 ').split())\n",
    "l1= list(map(int,input('Enter the elements of matrix1 ').split()))\n",
    "l2= list(map(int,input('Enter the elements of matrix2 ').split()))\n",
    "if len(l1)== m1*n1 and len(l2)==m2*n2:\n",
    "    mat1= (np.array(l1)).reshape(m1,n1)\n",
    "    mat2= (np.array(l2)).reshape(m2,n2)\n",
    "    if n1==m2:\n",
    "        \n",
    "        print('The first matrix is\\n',mat1)\n",
    "        print('The second matrix is\\n',mat2)\n",
    "        print('The product of two matrices is\\n', mat1@mat2)\n",
    "    else:\n",
    "        print('Multiplication of matrices cannot be done. ')\n",
    "else:\n",
    "    print('You have entered wrong number of elements. ')"
   ]
  },
  {
   "cell_type": "markdown",
   "id": "a79b6848",
   "metadata": {},
   "source": [
    "# 3.  Write a Python Program to Transpose a Matrix? "
   ]
  },
  {
   "cell_type": "code",
   "execution_count": 4,
   "id": "02a1b493",
   "metadata": {},
   "outputs": [
    {
     "name": "stdout",
     "output_type": "stream",
     "text": [
      "Enter the size of matrix 2 4\n",
      "Enter the elements of matrix 1 2 3 4 5 6 7 8\n",
      "The original matrix is\n",
      " [[1 2 3 4]\n",
      " [5 6 7 8]]\n",
      "The transposed matrix is\n",
      " [[1 5]\n",
      " [2 6]\n",
      " [3 7]\n",
      " [4 8]]\n"
     ]
    }
   ],
   "source": [
    "import numpy as np\n",
    "m,n=map(int,input('Enter the size of matrix ').split())\n",
    "l1= list(map(int,input('Enter the elements of matrix ').split()))\n",
    "if len(l1)==m*n:\n",
    "    m1= (np.array(l1)).reshape(m,n)\n",
    "    print('The original matrix is\\n',m1)\n",
    "    res=np.transpose(m1)\n",
    "    print('The transposed matrix is\\n',res)\n",
    "else:\n",
    "    print('You have entered wrong number of elements')\n",
    "    \n",
    "    "
   ]
  },
  {
   "cell_type": "markdown",
   "id": "74aa83ae",
   "metadata": {},
   "source": [
    "# 4. Write a Python Program to Sort Words in Alphabetic Order?"
   ]
  },
  {
   "cell_type": "code",
   "execution_count": 7,
   "id": "355c464e",
   "metadata": {},
   "outputs": [
    {
     "name": "stdout",
     "output_type": "stream",
     "text": [
      "Enter a string hiii please convert this string into alphabetical order\n",
      "The string after sorting words in Alphabetical order :  alphabetical convert hiii into order please string this\n"
     ]
    }
   ],
   "source": [
    "line= input('Enter a string ')\n",
    "line.casefold()\n",
    "res= line.split()\n",
    "res.sort()\n",
    "\n",
    "print('The string after sorting words in Alphabetical order : ',' '.join(res))"
   ]
  },
  {
   "cell_type": "markdown",
   "id": "1db30d87",
   "metadata": {},
   "source": [
    "# 5. Write a Python Program to Remove Punctuation From a String?"
   ]
  },
  {
   "cell_type": "code",
   "execution_count": 8,
   "id": "245001c7",
   "metadata": {},
   "outputs": [
    {
     "name": "stdout",
     "output_type": "stream",
     "text": [
      "Enter a stringPl%$ease rem(o)ve the <Punc>tua/ion\n",
      "The string after removing Punctuation from the string :  Please remove the Punctuaion\n"
     ]
    }
   ],
   "source": [
    "line= input('Enter a string')\n",
    "punc = '''!()-[]{};:'\"\\,<>./?@#$%^&*_~'''\n",
    "res=\"\"\n",
    "for i in line:\n",
    "    if i not in punc:\n",
    "        res=res+i\n",
    "print('The string after removing Punctuation from the string : ',res)\n",
    "        "
   ]
  }
 ],
 "metadata": {
  "kernelspec": {
   "display_name": "Python 3",
   "language": "python",
   "name": "python3"
  },
  "language_info": {
   "codemirror_mode": {
    "name": "ipython",
    "version": 3
   },
   "file_extension": ".py",
   "mimetype": "text/x-python",
   "name": "python",
   "nbconvert_exporter": "python",
   "pygments_lexer": "ipython3",
   "version": "3.8.8"
  }
 },
 "nbformat": 4,
 "nbformat_minor": 5
}
